{
 "cells": [
  {
   "cell_type": "code",
   "execution_count": 1,
   "metadata": {},
   "outputs": [
    {
     "name": "stdout",
     "output_type": "stream",
     "text": [
      "𝐇𝐞𝐥𝐥𝐨, 𝐖𝐨𝐫𝐥𝐝!\n"
     ]
    }
   ],
   "source": [
    "\n",
    "# day1 \n",
    "# ##  𝐅𝐢𝐫𝐬𝐭 𝐏𝐲𝐭𝐡𝐨𝐧 𝐏𝐫𝐨𝐠𝐫𝐚𝐦\n",
    "\n",
    "𝐩𝐫𝐢𝐧𝐭( \"𝐇𝐞𝐥𝐥𝐨, 𝐖𝐨𝐫𝐥𝐝!\")\n"
   ]
  },
  {
   "cell_type": "code",
   "execution_count": 2,
   "metadata": {},
   "outputs": [],
   "source": [
    "#day 4\n",
    "# Python Data Types\n",
    "\n",
    "age =  30 #int \n",
    "weight = 3.6 #float \n",
    "name  = 'akym' # str \n"
   ]
  },
  {
   "cell_type": "code",
   "execution_count": 3,
   "metadata": {},
   "outputs": [
    {
     "name": "stdout",
     "output_type": "stream",
     "text": [
      "Abdulhakeem Oluwatobi Salaudeen\n"
     ]
    }
   ],
   "source": [
    "# day5\n",
    "# 𝐖𝐨𝐫𝐤𝐢𝐧𝐠 𝐰𝐢𝐭𝐡 𝐒𝐭𝐫𝐢𝐧𝐠𝐬\n",
    "#concatenation \n",
    "\n",
    "FirstName = 'Abdulhakeem'\n",
    "LastName = 'Salaudeen'\n",
    "MiddleName = 'Oluwatobi'\n",
    "\n",
    "FullName =  FirstName + ' ' + MiddleName + \" \" + LastName\n",
    "\n",
    "print (FullName)\n"
   ]
  },
  {
   "cell_type": "code",
   "execution_count": 4,
   "metadata": {},
   "outputs": [
    {
     "name": "stdout",
     "output_type": "stream",
     "text": [
      "hello\n"
     ]
    }
   ],
   "source": [
    "# day5\n",
    "# 𝐖𝐨𝐫𝐤𝐢𝐧𝐠 𝐰𝐢𝐭𝐡 𝐒𝐭𝐫𝐢𝐧𝐠𝐬\n",
    "# slicing \n",
    "\n",
    "greeting = 'hello, world'\n",
    "\n",
    "print(greeting[0:5])\n",
    "\n"
   ]
  },
  {
   "cell_type": "code",
   "execution_count": 5,
   "metadata": {},
   "outputs": [
    {
     "name": "stdout",
     "output_type": "stream",
     "text": [
      "hello, world\n",
      "HELLO, WORLD\n"
     ]
    }
   ],
   "source": [
    "# day5\n",
    "# 𝐖𝐨𝐫𝐤𝐢𝐧𝐠 𝐰𝐢𝐭𝐡 𝐒𝐭𝐫𝐢𝐧𝐠𝐬\n",
    "# methods \n",
    "\n",
    "print(greeting.lower())\n",
    "print(greeting.upper())\n"
   ]
  },
  {
   "cell_type": "code",
   "execution_count": 1,
   "metadata": {},
   "outputs": [
    {
     "name": "stdout",
     "output_type": "stream",
     "text": [
      "apple\n",
      "['apple', 'banana', 'carrot', 'orange', 'date']\n",
      "['apple', 'banana', 'carrot', 'orange', 'date', 'pineapple']\n"
     ]
    }
   ],
   "source": [
    "# 𝐃𝐚𝐲 6\n",
    "# 𝐔𝐧𝐝𝐞𝐫𝐬𝐭𝐚𝐧𝐝𝐢𝐧𝐠 𝐋𝐢𝐬𝐭𝐬\n",
    "# Lists are ordered collections of items. They are mutable, meaning they can be changed.\n",
    "# 𝐊𝐞𝐲 𝐨𝐩𝐞𝐫𝐚𝐭𝐢𝐨𝐧𝐬: append(), remove(), sort()\n",
    "\n",
    "fruits = ['apple', 'banana', 'carrot', 'orange']\n",
    "print (fruits[0])\n",
    "\n",
    "# append \n",
    "fruits.append('date')\n",
    "print(fruits)\n",
    "\n",
    "# append \n",
    "fruits.append('pineapple')\n",
    "print(fruits)\n"
   ]
  },
  {
   "cell_type": "code",
   "execution_count": 7,
   "metadata": {},
   "outputs": [
    {
     "name": "stdout",
     "output_type": "stream",
     "text": [
      "akym\n",
      "{'name': 'akym', 'age': 27, 'city': 'Lagos', 'email': 'hakeem@gmail.com'}\n"
     ]
    }
   ],
   "source": [
    "# Day 7\n",
    "# 𝐄𝐱𝐩𝐥𝐨𝐫𝐢𝐧𝐠 𝐃𝐢𝐜𝐭𝐢𝐨𝐧𝐚𝐫𝐢𝐞𝐬\n",
    "# Dictionaries store data as key-value pairs. They are unordered and mutable.\n",
    "# 𝐊𝐞𝐲 𝐨𝐩𝐞𝐫𝐚𝐭𝐢𝐨𝐧𝐬: #keys() #values() #items()\n",
    "\n",
    "person ={\n",
    "    'name' : 'akym',\n",
    "    'age' : 27,\n",
    "    'city' : 'Lagos'    \n",
    "}\n",
    "\n",
    "print (person ['name'])\n",
    "\n",
    "person ['email'] = 'hakeem@gmail.com'\n",
    "print(person)\n"
   ]
  },
  {
   "cell_type": "code",
   "execution_count": 12,
   "metadata": {},
   "outputs": [
    {
     "name": "stdout",
     "output_type": "stream",
     "text": [
      "you are not an adult\n",
      "you are an adult\n"
     ]
    }
   ],
   "source": [
    "# Day 8\n",
    "# Conditionals in Python\n",
    "# Conditionals allow your code to make decisions.\n",
    "# Key statements: if, elif, else\n",
    "\n",
    "age = 18\n",
    "\n",
    "if age <= 17:\n",
    "    print('you are an adult')\n",
    "else:\n",
    "    print('you are not an adult')\n",
    "\n",
    "if age >= 18:\n",
    "    print('you are an adult')\n",
    "else:\n",
    "    print('you are not an adult')\n"
   ]
  },
  {
   "cell_type": "code",
   "execution_count": null,
   "metadata": {},
   "outputs": [],
   "source": []
  },
  {
   "cell_type": "code",
   "execution_count": null,
   "metadata": {},
   "outputs": [],
   "source": []
  },
  {
   "cell_type": "code",
   "execution_count": null,
   "metadata": {},
   "outputs": [],
   "source": []
  }
 ],
 "metadata": {
  "kernelspec": {
   "display_name": "Python 3",
   "language": "python",
   "name": "python3"
  },
  "language_info": {
   "codemirror_mode": {
    "name": "ipython",
    "version": 3
   },
   "file_extension": ".py",
   "mimetype": "text/x-python",
   "name": "python",
   "nbconvert_exporter": "python",
   "pygments_lexer": "ipython3",
   "version": "3.12.2"
  }
 },
 "nbformat": 4,
 "nbformat_minor": 2
}
