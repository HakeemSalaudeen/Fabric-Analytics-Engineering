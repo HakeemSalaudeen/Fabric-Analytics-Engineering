{
 "cells": [
  {
   "cell_type": "code",
   "execution_count": 16,
   "metadata": {},
   "outputs": [],
   "source": [
    "## import libraries \n",
    "\n",
    "import pyodbc as odbc \n",
    "import pandas as pd \n",
    "import pypyodbc as podbc\n"
   ]
  },
  {
   "cell_type": "code",
   "execution_count": 25,
   "metadata": {},
   "outputs": [
    {
     "name": "stdout",
     "output_type": "stream",
     "text": [
      "SQL Server\n",
      "SQL Server Native Client RDA 11.0\n",
      "ODBC Driver 17 for SQL Server\n",
      "Microsoft Access Driver (*.mdb, *.accdb)\n",
      "Microsoft Excel Driver (*.xls, *.xlsx, *.xlsm, *.xlsb)\n",
      "Microsoft Access Text Driver (*.txt, *.csv)\n"
     ]
    }
   ],
   "source": [
    "# loop through all the drivers we have access to \n",
    "\n",
    "for driver in odbc.drivers():\n",
    "    print (driver)\n"
   ]
  },
  {
   "cell_type": "code",
   "execution_count": 26,
   "metadata": {},
   "outputs": [],
   "source": [
    "conn_str = (\"Driver= {ODBC Driver 17 for SQL Server};\"\n",
    "            \"Server = AKYM;\"\n",
    "            \"Database = AdventureWorks2016;\"\n",
    "            \"Trusted_connection = yes;\")\n"
   ]
  },
  {
   "cell_type": "code",
   "execution_count": 34,
   "metadata": {},
   "outputs": [],
   "source": [
    "conn_strr = (\"Driver= {SQL Server Native Client RDA 11.0};\"\n",
    "            \"Server = AKYM;\"\n",
    "            \"Database = AdventureWorks2016;\"\n",
    "            \"Trusted_connection = yes;\")\n"
   ]
  },
  {
   "cell_type": "code",
   "execution_count": 35,
   "metadata": {},
   "outputs": [
    {
     "ename": "OperationalError",
     "evalue": "('08001', '[08001] [Microsoft][SQL Server Native Client 11.0]Neither DSN nor SERVER keyword supplied (0) (SQLDriverConnect); [08001] [Microsoft][SQL Server Native Client 11.0]Invalid connection string attribute (0)')",
     "output_type": "error",
     "traceback": [
      "\u001b[1;31m---------------------------------------------------------------------------\u001b[0m",
      "\u001b[1;31mOperationalError\u001b[0m                          Traceback (most recent call last)",
      "Cell \u001b[1;32mIn[35], line 1\u001b[0m\n\u001b[1;32m----> 1\u001b[0m sql_server \u001b[38;5;241m=\u001b[39m \u001b[43modbc\u001b[49m\u001b[38;5;241;43m.\u001b[39;49m\u001b[43mconnect\u001b[49m\u001b[43m(\u001b[49m\u001b[43mconn_strr\u001b[49m\u001b[43m)\u001b[49m\n",
      "\u001b[1;31mOperationalError\u001b[0m: ('08001', '[08001] [Microsoft][SQL Server Native Client 11.0]Neither DSN nor SERVER keyword supplied (0) (SQLDriverConnect); [08001] [Microsoft][SQL Server Native Client 11.0]Invalid connection string attribute (0)')"
     ]
    }
   ],
   "source": [
    "\n",
    "sql_server = odbc.connect(conn_strr)\n"
   ]
  },
  {
   "cell_type": "code",
   "execution_count": 28,
   "metadata": {},
   "outputs": [
    {
     "ename": "DatabaseError",
     "evalue": "('08001', '[08001] [Microsoft][SQL Server Native Client 11.0]Neither DSN nor SERVER keyword supplied')",
     "output_type": "error",
     "traceback": [
      "\u001b[1;31m---------------------------------------------------------------------------\u001b[0m",
      "\u001b[1;31mDatabaseError\u001b[0m                             Traceback (most recent call last)",
      "Cell \u001b[1;32mIn[28], line 1\u001b[0m\n\u001b[1;32m----> 1\u001b[0m conn_str2 \u001b[38;5;241m=\u001b[39m \u001b[43mpodbc\u001b[49m\u001b[38;5;241;43m.\u001b[39;49m\u001b[43mconnect\u001b[49m\u001b[43m(\u001b[49m\u001b[38;5;124;43m\"\u001b[39;49m\u001b[38;5;124;43mDriver= \u001b[39;49m\u001b[38;5;124;43m{\u001b[39;49m\u001b[38;5;124;43mSQL Server Native Client RDA 11.0};\u001b[39;49m\u001b[38;5;124;43m\"\u001b[39;49m\n\u001b[0;32m      2\u001b[0m \u001b[43m            \u001b[49m\u001b[38;5;124;43m\"\u001b[39;49m\u001b[38;5;124;43mServer = AKYM;\u001b[39;49m\u001b[38;5;124;43m\"\u001b[39;49m\n\u001b[0;32m      3\u001b[0m \u001b[43m            \u001b[49m\u001b[38;5;124;43m\"\u001b[39;49m\u001b[38;5;124;43mDatabase = AdventureWorks2016;\u001b[39;49m\u001b[38;5;124;43m\"\u001b[39;49m\n\u001b[0;32m      4\u001b[0m \u001b[43m            \u001b[49m\u001b[38;5;124;43m\"\u001b[39;49m\u001b[38;5;124;43mTrusted_connection = yes;\u001b[39;49m\u001b[38;5;124;43m\"\u001b[39;49m\u001b[43m)\u001b[49m\n",
      "File \u001b[1;32mc:\\Users\\HAKEEM OLUWATOBI\\AppData\\Local\\Programs\\Python\\Python312\\Lib\\site-packages\\pypyodbc.py:2454\u001b[0m, in \u001b[0;36mConnection.__init__\u001b[1;34m(self, connectString, autocommit, ansi, timeout, unicode_results, readonly, **kargs)\u001b[0m\n\u001b[0;32m   2450\u001b[0m \u001b[38;5;28;01mif\u001b[39;00m \u001b[38;5;28mself\u001b[39m\u001b[38;5;241m.\u001b[39mconnection_timeout \u001b[38;5;241m!=\u001b[39m \u001b[38;5;241m0\u001b[39m:\n\u001b[0;32m   2451\u001b[0m     \u001b[38;5;28mself\u001b[39m\u001b[38;5;241m.\u001b[39mset_connection_timeout(connection_timeout)\n\u001b[1;32m-> 2454\u001b[0m \u001b[38;5;28;43mself\u001b[39;49m\u001b[38;5;241;43m.\u001b[39;49m\u001b[43mconnect\u001b[49m\u001b[43m(\u001b[49m\u001b[43mconnectString\u001b[49m\u001b[43m,\u001b[49m\u001b[43m \u001b[49m\u001b[43mautocommit\u001b[49m\u001b[43m,\u001b[49m\u001b[43m \u001b[49m\u001b[43mansi\u001b[49m\u001b[43m,\u001b[49m\u001b[43m \u001b[49m\u001b[43mtimeout\u001b[49m\u001b[43m,\u001b[49m\u001b[43m \u001b[49m\u001b[43municode_results\u001b[49m\u001b[43m,\u001b[49m\u001b[43m \u001b[49m\u001b[43mreadonly\u001b[49m\u001b[43m)\u001b[49m\n",
      "File \u001b[1;32mc:\\Users\\HAKEEM OLUWATOBI\\AppData\\Local\\Programs\\Python\\Python312\\Lib\\site-packages\\pypyodbc.py:2507\u001b[0m, in \u001b[0;36mConnection.connect\u001b[1;34m(self, connectString, autocommit, ansi, timeout, unicode_results, readonly)\u001b[0m\n\u001b[0;32m   2505\u001b[0m \u001b[38;5;28;01melse\u001b[39;00m:\n\u001b[0;32m   2506\u001b[0m     ret \u001b[38;5;241m=\u001b[39m odbc_func(\u001b[38;5;28mself\u001b[39m\u001b[38;5;241m.\u001b[39mdbc_h, \u001b[38;5;241m0\u001b[39m, c_connectString, \u001b[38;5;28mlen\u001b[39m(\u001b[38;5;28mself\u001b[39m\u001b[38;5;241m.\u001b[39mconnectString), \u001b[38;5;28;01mNone\u001b[39;00m, \u001b[38;5;241m0\u001b[39m, \u001b[38;5;28;01mNone\u001b[39;00m, SQL_DRIVER_NOPROMPT)\n\u001b[1;32m-> 2507\u001b[0m \u001b[43mcheck_success\u001b[49m\u001b[43m(\u001b[49m\u001b[38;5;28;43mself\u001b[39;49m\u001b[43m,\u001b[49m\u001b[43m \u001b[49m\u001b[43mret\u001b[49m\u001b[43m)\u001b[49m\n\u001b[0;32m   2510\u001b[0m \u001b[38;5;66;03m# Set the connection's attribute of \"autocommit\" \u001b[39;00m\n\u001b[0;32m   2511\u001b[0m \u001b[38;5;66;03m#\u001b[39;00m\n\u001b[0;32m   2512\u001b[0m \u001b[38;5;28mself\u001b[39m\u001b[38;5;241m.\u001b[39mautocommit \u001b[38;5;241m=\u001b[39m autocommit\n",
      "File \u001b[1;32mc:\\Users\\HAKEEM OLUWATOBI\\AppData\\Local\\Programs\\Python\\Python312\\Lib\\site-packages\\pypyodbc.py:1009\u001b[0m, in \u001b[0;36mcheck_success\u001b[1;34m(ODBC_obj, ret)\u001b[0m\n\u001b[0;32m   1007\u001b[0m     ctrl_err(SQL_HANDLE_STMT, ODBC_obj\u001b[38;5;241m.\u001b[39mstmt_h, ret, ODBC_obj\u001b[38;5;241m.\u001b[39mansi)\n\u001b[0;32m   1008\u001b[0m \u001b[38;5;28;01melif\u001b[39;00m \u001b[38;5;28misinstance\u001b[39m(ODBC_obj, Connection):\n\u001b[1;32m-> 1009\u001b[0m     \u001b[43mctrl_err\u001b[49m\u001b[43m(\u001b[49m\u001b[43mSQL_HANDLE_DBC\u001b[49m\u001b[43m,\u001b[49m\u001b[43m \u001b[49m\u001b[43mODBC_obj\u001b[49m\u001b[38;5;241;43m.\u001b[39;49m\u001b[43mdbc_h\u001b[49m\u001b[43m,\u001b[49m\u001b[43m \u001b[49m\u001b[43mret\u001b[49m\u001b[43m,\u001b[49m\u001b[43m \u001b[49m\u001b[43mODBC_obj\u001b[49m\u001b[38;5;241;43m.\u001b[39;49m\u001b[43mansi\u001b[49m\u001b[43m)\u001b[49m\n\u001b[0;32m   1010\u001b[0m \u001b[38;5;28;01melse\u001b[39;00m:\n\u001b[0;32m   1011\u001b[0m     ctrl_err(SQL_HANDLE_ENV, ODBC_obj, ret, \u001b[38;5;28;01mFalse\u001b[39;00m)\n",
      "File \u001b[1;32mc:\\Users\\HAKEEM OLUWATOBI\\AppData\\Local\\Programs\\Python\\Python312\\Lib\\site-packages\\pypyodbc.py:987\u001b[0m, in \u001b[0;36mctrl_err\u001b[1;34m(ht, h, val_ret, ansi)\u001b[0m\n\u001b[0;32m    985\u001b[0m         \u001b[38;5;28;01mraise\u001b[39;00m Error(state,err_text)\n\u001b[0;32m    986\u001b[0m     \u001b[38;5;28;01melse\u001b[39;00m:\n\u001b[1;32m--> 987\u001b[0m         \u001b[38;5;28;01mraise\u001b[39;00m DatabaseError(state,err_text)\n\u001b[0;32m    988\u001b[0m     \u001b[38;5;28;01mbreak\u001b[39;00m\n\u001b[0;32m    989\u001b[0m \u001b[38;5;28;01melif\u001b[39;00m ret \u001b[38;5;241m==\u001b[39m SQL_INVALID_HANDLE:\n\u001b[0;32m    990\u001b[0m     \u001b[38;5;66;03m#The handle passed is an invalid handle\u001b[39;00m\n",
      "\u001b[1;31mDatabaseError\u001b[0m: ('08001', '[08001] [Microsoft][SQL Server Native Client 11.0]Neither DSN nor SERVER keyword supplied')"
     ]
    }
   ],
   "source": [
    "conn_str2 = podbc.connect(\"Driver= {SQL Server Native Client RDA 11.0};\"\n",
    "            \"Server = AKYM;\"\n",
    "            \"Database = AdventureWorks2016;\"\n",
    "            \"Trusted_connection = yes;\")\n"
   ]
  }
 ],
 "metadata": {
  "kernelspec": {
   "display_name": "Python 3",
   "language": "python",
   "name": "python3"
  },
  "language_info": {
   "codemirror_mode": {
    "name": "ipython",
    "version": 3
   },
   "file_extension": ".py",
   "mimetype": "text/x-python",
   "name": "python",
   "nbconvert_exporter": "python",
   "pygments_lexer": "ipython3",
   "version": "undefined.undefined.undefined"
  }
 },
 "nbformat": 4,
 "nbformat_minor": 2
}
